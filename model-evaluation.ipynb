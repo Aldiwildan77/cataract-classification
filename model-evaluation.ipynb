{
 "cells": [
  {
   "cell_type": "code",
   "id": "initial_id",
   "metadata": {
    "collapsed": true
   },
   "source": [
    "## Preparation\n",
    "\n",
    "# Import the necessary libraries\n",
    "import torch\n",
    "import torch.nn as nn\n",
    "from sklearn.model_selection import train_test_split\n",
    "from sympy.strategies.core import switch\n",
    "from torchvision import models, datasets, transforms\n",
    "from torch.utils.data import DataLoader, Subset\n",
    "from sklearn.metrics import confusion_matrix, ConfusionMatrixDisplay, classification_report, roc_curve, auc\n",
    "from torchvision.models import efficientnet_b0\n",
    "from tqdm import tqdm\n",
    "\n",
    "import matplotlib.pyplot as plt\n",
    "import numpy as np\n",
    "import os\n",
    "import optuna\n",
    "import time\n",
    "\n",
    "dataset_path = os.getcwd() + '/dataset/classified'\n",
    "\n",
    "class_labels = [\"Normal\", \"Cataract\"]"
   ],
   "outputs": [],
   "execution_count": null
  },
  {
   "metadata": {},
   "cell_type": "code",
   "source": [
    "# 1. Load checkpoint\n",
    "model_path = r\"H:\\Kerja\\Project\\cataract detection\\cataract detection - dr arya\\cataract-detection\\output\\checkpoint-94.82758620689656-hyperparam.pth\"\n",
    "checkpoint = torch.load(model_path, map_location=torch.device('cuda'))\n",
    "\n",
    "# 2. Recreate model\n",
    "model = efficientnet_b0(weights=None)  # Jangan pakai pretrained (karena akan overwrite)\n",
    "model.classifier = nn.Sequential(\n",
    "    nn.Linear(number_of_features, 256),\n",
    "    nn.BatchNorm1d(256),\n",
    "    Swish(),\n",
    "\n",
    "    ResidualBlock(256, 256),\n",
    "    nn.Dropout(dropout_rate),\n",
    "\n",
    "    ResidualBlock(256, 128),\n",
    "    nn.Dropout(dropout_rate),\n",
    "\n",
    "    ResidualBlock(128, 128),\n",
    "    nn.Dropout(dropout_rate),\n",
    "\n",
    "    ResidualBlock(128, 64),\n",
    "    nn.Dropout(dropout_rate),\n",
    "\n",
    "    nn.Linear(64, 1)\n",
    ")\n",
    "\n",
    "num_classes = 2  # Ganti sesuai jumlah kelas kamu\n",
    "model.classifier[1] = torch.nn.Linear(model.classifier[1].in_features, num_classes)\n",
    "\n",
    "# 3. Load weights dari checkpoint\n",
    "model.load_state_dict(checkpoint['model_state_dict'])\n",
    "model = model.to(torch.device('cuda'))  # Optional, kalau pakai GPU\n",
    "model.eval()\n",
    "\n",
    "# 4. Tes\n",
    "print(model)"
   ],
   "id": "29b349dc69b8d410",
   "outputs": [],
   "execution_count": null
  },
  {
   "metadata": {},
   "cell_type": "code",
   "source": [
    "transform = transforms.Compose([\n",
    "    transforms.Resize((224, 224)),\n",
    "    transforms.ToTensor(),\n",
    "    transforms.Normalize(mean=[0.485, 0.456, 0.406],  # typical ImageNet means\n",
    "                         std=[0.229, 0.224, 0.225])   # typical ImageNet stds\n",
    "])"
   ],
   "id": "d53e4384ef8013ac",
   "outputs": [],
   "execution_count": null
  },
  {
   "metadata": {},
   "cell_type": "code",
   "source": [
    "def classify_image(image_path):\n",
    "    image = Image.open(image_path).convert('RGB')\n",
    "    input_tensor = transform(image).unsqueeze(0)\n",
    "\n",
    "    print(input_tensor)\n",
    "\n",
    "    with torch.no_grad():\n",
    "        output = model(input_tensor)\n",
    "        prediction = torch.argmax(output, dim=1).item()\n",
    "\n",
    "    return prediction"
   ],
   "id": "87908d409a408a62",
   "outputs": [],
   "execution_count": null
  },
  {
   "metadata": {},
   "cell_type": "code",
   "source": [
    "image_path = './dataset/additional_penelitian/Katarak/OD 1.jpg'\n",
    "prediction = classify_image(image_path)\n",
    "print(f\"Predicted class {prediction}\")"
   ],
   "id": "7f91bbc33f1cbc20",
   "outputs": [],
   "execution_count": null
  }
 ],
 "metadata": {
  "kernelspec": {
   "display_name": "Python 3",
   "language": "python",
   "name": "python3"
  },
  "language_info": {
   "codemirror_mode": {
    "name": "ipython",
    "version": 2
   },
   "file_extension": ".py",
   "mimetype": "text/x-python",
   "name": "python",
   "nbconvert_exporter": "python",
   "pygments_lexer": "ipython2",
   "version": "2.7.6"
  }
 },
 "nbformat": 4,
 "nbformat_minor": 5
}
